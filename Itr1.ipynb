{
 "cells": [
  {
   "cell_type": "code",
   "execution_count": 1,
   "metadata": {},
   "outputs": [],
   "source": [
    "import numpy as np\n",
    "from openopt import NLP\n",
    "import matplotlib.pyplot as plt\n",
    "%matplotlib inline"
   ]
  },
  {
   "cell_type": "markdown",
   "metadata": {},
   "source": [
    "Based on papers and genetic algo."
   ]
  },
  {
   "cell_type": "code",
   "execution_count": 7,
   "metadata": {},
   "outputs": [],
   "source": [
    "def structtruss(p1, p2, xnum, ynum):\n",
    "    pinjoints = []\n",
    "    segments = []\n",
    "    # making a dotted structure of entire space\n",
    "    xspan = np.linspace(p1[0], p2[0], xnum + 1)\n",
    "    yspan = np.linspace(p1[1], p2[1], ynum + 1)\n",
    "    for y in yspan:\n",
    "        for x in xspan:\n",
    "            pinjoints.append([x, y])  # making a grid of dots\n",
    "    for j in range(ynum):\n",
    "        for i in range(xnum):\n",
    "            inter = j * (xnum + 1)\n",
    "            p1 = i + inter\n",
    "            p2 = p1 + 1\n",
    "            p3 = p1 + xnum + 1\n",
    "            p4 = p3 + 1\n",
    "            segments.extend([[p1, p2], [p1, p3], [p1, p4], [p2, p3]])\n",
    "        segments.append([p2, p4])\n",
    "    idx = ynum * (xnum + 1) + 1\n",
    "    for j in range(xnum):\n",
    "        # create segments between pinjoints.\n",
    "        segments.append([idx + j - 1, idx + j])\n",
    "    return np.array(pinjoints), np.array(segments)\n"
   ]
  },
  {
   "cell_type": "code",
   "execution_count": null,
   "metadata": {},
   "outputs": [],
   "source": []
  }
 ],
 "metadata": {
  "kernelspec": {
   "display_name": "Python 3",
   "language": "python",
   "name": "python3"
  },
  "language_info": {
   "codemirror_mode": {
    "name": "ipython",
    "version": 3
   },
   "file_extension": ".py",
   "mimetype": "text/x-python",
   "name": "python",
   "nbconvert_exporter": "python",
   "pygments_lexer": "ipython3",
   "version": "3.7.1"
  }
 },
 "nbformat": 4,
 "nbformat_minor": 2
}
