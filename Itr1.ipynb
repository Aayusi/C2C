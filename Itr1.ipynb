{
 "cells": [
  {
   "cell_type": "code",
   "execution_count": 1,
   "metadata": {},
   "outputs": [],
   "source": [
    "import numpy as np\n",
    "from openopt import NLP\n",
    "import matplotlib.pyplot as plt\n",
    "%matplotlib inline"
   ]
  },
  {
   "cell_type": "markdown",
   "metadata": {},
   "source": [
    "Based on papers and genetic algo."
   ]
  },
  {
   "cell_type": "code",
   "execution_count": 7,
   "metadata": {},
   "outputs": [],
   "source": [
    "def structtruss(p1, p2, xnum, ynum):\n",
    "    pinjoints = []\n",
    "    segments = []\n",
    "    # making a dotted structure of entire space\n",
    "    xspan = np.linspace(p1[0], p2[0], xnum + 1)\n",
    "    yspan = np.linspace(p1[1], p2[1], ynum + 1)\n",
    "    for y in yspan:\n",
    "        for x in xspan:\n",
    "            pinjoints.append([x, y])  # making a grid of dots\n",
    "    for j in range(ynum):\n",
    "        for i in range(xnum):\n",
    "            inter = j * (xnum + 1)\n",
    "            p1 = i + inter\n",
    "            p2 = p1 + 1\n",
    "            p3 = p1 + xnum + 1\n",
    "            p4 = p3 + 1\n",
    "            segments.extend([[p1, p2], [p1, p3], [p1, p4], [p2, p3]])\n",
    "        segments.append([p2, p4])\n",
    "    idx = ynum * (xnum + 1) + 1\n",
    "    for j in range(xnum):\n",
    "        # create segments between pinjoints.\n",
    "        segments.append([idx + j - 1, idx + j])\n",
    "    return np.array(pinjoints), np.array(segments)\n",
    "\n",
    "def genalgtruss(dots, cons, ym, F, freepj, V0, plotdisp=False):\n",
    "    n = cons.shape[0]\n",
    "    m = dots.shape[0]\n",
    "    vecs = dots[cons[:, 1], :] - dots[cons[:, 0], :]\n",
    "    l = np.sqrt((vecs ** 2).sum(axis=1))\n",
    "    e = vecs.T / l\n",
    "    B = (e[np.newaxis] * e[:, np.newaxis]).T\n",
    "\n",
    "    def freeobj(x):\n",
    "        D = ym * x / l #Stiffness = E(the cross section area)/length\n",
    "        kx = e * D\n",
    "        KZ = np.zeros((2 * m, 2 * m))\n",
    "        for i in range(n):\n",
    "            aux = 2 * cons[i, :]\n",
    "            idx = np.r_[aux[0]:aux[0] + 2, aux[1]:aux[1] + 2]\n",
    "            K0 = np.concatenate((np.concatenate(\n",
    "                (B[i], -B[i]), axis=1), np.concatenate((-B[i], B[i]), axis=1)), axis=0)\n",
    "            KZ[np.ix_(idx, idx)] = KZ[np.ix_(idx, idx)] + D[i] * K0\n",
    "\n",
    "        box = freepj .flatten().nonzero()[0]\n",
    "        mat = KZ[np.ix_(box, box)]\n",
    "        rhs = F.flatten()[box]\n",
    "        answer = np.linalg.solve(mat, rhs)\n",
    "        u = freepj .astype(\"float\").flatten()\n",
    "        u[box] = answer\n",
    "        U = u.reshape(m, 2)\n",
    "        axis = ((U[cons[:, 1], :] - U[cons[:, 0], :]) * kx.T).sum(axis=1)\n",
    "        stress = axis / x\n",
    "        loss = (U * F).sum()\n",
    "        strain = -stress ** 2 / ym * l\n",
    "        return loss, strain, U, stress"
   ]
  },
  {
   "cell_type": "code",
   "execution_count": null,
   "metadata": {},
   "outputs": [],
   "source": []
  }
 ],
 "metadata": {
  "kernelspec": {
   "display_name": "Python 3",
   "language": "python",
   "name": "python3"
  },
  "language_info": {
   "codemirror_mode": {
    "name": "ipython",
    "version": 3
   },
   "file_extension": ".py",
   "mimetype": "text/x-python",
   "name": "python",
   "nbconvert_exporter": "python",
   "pygments_lexer": "ipython3",
   "version": "3.7.1"
  }
 },
 "nbformat": 4,
 "nbformat_minor": 2
}
