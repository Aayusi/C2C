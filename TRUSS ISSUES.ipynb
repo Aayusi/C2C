{
 "cells": [
  {
   "cell_type": "markdown",
   "metadata": {
    "collapsed": true
   },
   "source": [
    "# <font color=red> Truss Issues\n",
    "\n",
    "## Welcome to truss bridge generation\n",
    "\n",
    "<img src=\"download.png\">"
   ]
  },
  {
   "cell_type": "code",
   "execution_count": 29,
   "metadata": {},
   "outputs": [],
   "source": [
    "import numpy as np\n",
    "from openopt import NLP\n",
    "import matplotlib.pyplot as plt\n",
    "%matplotlib inline"
   ]
  },
  {
   "cell_type": "code",
   "execution_count": 30,
   "metadata": {},
   "outputs": [],
   "source": [
    "def structtruss(p1, p2, xnum, ynum):\n",
    "    pinjoints = []\n",
    "    segments = []\n",
    "    # making a dotted structure of entire space\n",
    "    xspan = np.linspace(p1[0], p2[0], xnum + 1)\n",
    "    yspan = np.linspace(p1[1], p2[1], ynum + 1)\n",
    "    for y in yspan:\n",
    "        for x in xspan:\n",
    "            pinjoints.append([x, y])  # making a grid of dots\n",
    "    for j in range(ynum):\n",
    "        for i in range(xnum):\n",
    "            inter = j * (xnum + 1)\n",
    "            p1 = i + inter\n",
    "            p2 = p1 + 1\n",
    "            p3 = p1 + xnum + 1\n",
    "            p4 = p3 + 1\n",
    "            segments.extend([[p1, p2], [p1, p3], [p1, p4], [p2, p3]])\n",
    "        segments.append([p2, p4])\n",
    "    idx = ynum * (xnum + 1) + 1\n",
    "    for j in range(xnum):\n",
    "        # create segments between pinjoints.\n",
    "        segments.append([idx + j - 1, idx + j])\n",
    "    return np.array(pinjoints), np.array(segments)"
   ]
  },
  {
   "cell_type": "code",
   "execution_count": 36,
   "metadata": {},
   "outputs": [],
   "source": [
    "def genalgtruss(dots, cons, ym, F, freepj, V0, plotdisp=False):\n",
    "    n = cons.shape[0] #number of bars\n",
    "    m = dots.shape[0] #number of nodes\n",
    "    vecs = dots[cons[:, 1], :] - dots[cons[:, 0], :]      #A vector between each dot in the truss\n",
    "    l = np.sqrt((vecs ** 2).sum(axis=1))             # the displacement between each point\n",
    "    e = vecs.T / l       #unitary directive (unit vector)\n",
    "    B = (e[np.newaxis] * e[:, np.newaxis]).T    #elongation per unit l\n",
    "    \n",
    "    def objfunc(x):\n",
    "        D = ym * x / l      #Stiffness = E(the cross section area)/length\n",
    "        kx = e * D          #force generated (element wise stiffness)\n",
    "        KZ = np.zeros((2 * m, 2 * m)) \n",
    "        for i in range(n):\n",
    "            aux = 2 * cons[i, :]\n",
    "            idx = np.r_[aux[0]:aux[0] + 2, aux[1]:aux[1] + 2]\n",
    "            K0 = np.concatenate((np.concatenate(\n",
    "                (B[i], -B[i]), axis=1), np.concatenate((-B[i], B[i]), axis=1)), axis=0)        #Stiffness matrix\n",
    "            KZ[np.ix_(idx, idx)] = KZ[np.ix_(idx, idx)] + D[i] * K0 \n",
    "\n",
    "        box = freepj.flatten().nonzero()[0]      #freepj = array of free pin joints    (1Xn)\n",
    "        mat = KZ[np.ix_(box, box)]               # (nXn)\n",
    "        rhs = F.flatten()[box]                   #a vector of forces applied   (1Xn^2)\n",
    "        answer = np.linalg.solve(mat, rhs)       #ax=b\n",
    "        u = freepj.astype(\"float\").flatten()\n",
    "        u[box] = answer\n",
    "        U = u.reshape(m, 2)        #displacement vector\n",
    "        axis = ((U[cons[:, 1], :] - U[cons[:, 0], :]) * kx.T).sum(axis=1)      \n",
    "        stress = axis / x\n",
    "        loss = (U * F).sum()\n",
    "        dloss = -stress ** 2 / ym * l\n",
    "        return loss, dloss, U, stress\n",
    "\n",
    "    def vol(x):\n",
    "        return (x * l).sum(), l\n",
    "\n",
    "    def trussform(x, factor=3, wdt=5e2):\n",
    "        U, stress = objfunc(x)[2:]\n",
    "        newdots = dots + factor * U\n",
    "        if plotdisp:\n",
    "            fig = plt.figure(figsize=(12, 6))\n",
    "            ax = fig.add_subplot(121)\n",
    "            bx = fig.add_subplot(122)\n",
    "        else:\n",
    "            fig = plt.figure()\n",
    "            ax = fig.add_subplot(111)\n",
    "\n",
    "        for i in range(n):\n",
    "            segments1 = np.concatenate((dots[cons[i, 0], :][np.newaxis],\n",
    "                                        dots[cons[i, 1], :][np.newaxis]), axis=0)\n",
    "            segments2 = np.concatenate((newdots[cons[i, 0], :][np.newaxis],\n",
    "                                        newdots[cons[i, 1], :][np.newaxis]), axis=0)\n",
    "            if stress[i] > 0:\n",
    "                clr = \"r\"\n",
    "            else:\n",
    "                clr = \"g\"\n",
    "            ax.plot(segments1[:, 0], segments1[:, 1],\n",
    "                    color=clr, linewidth=wdt * x[i])\n",
    "            ax.axis(\"equal\")\n",
    "            ax.set_title(\"Stress per bar\")\n",
    "            if plotdisp:\n",
    "                bx.plot(segments1[:, 0], segments1[:, 1], \"r:\")\n",
    "                bx.plot(segments2[:, 0], segments2[:, 1],\n",
    "                        color=\"k\", linewidth=wdt * x[i])\n",
    "                bx.axis(\"equal\")\n",
    "                bx.set_title(\"Displacement on load\")\n",
    "\n",
    "            ax.plot([0, 0.6], [0, 0], color=\"black\", linewidth=wdt * 0.001)\n",
    "            bx.plot([0, 0.6], [0, 0], color=\"black\", linewidth=wdt * 0.001)\n",
    "            plt.setp(ax, xticks=[], yticks=[])\n",
    "        plt.setp(bx, xticks=[], yticks=[])\n",
    "        plt.show()\n",
    "\n",
    "    xminimum = 1e-6 * np.ones(n)\n",
    "    xmaximum = 1e-2 * np.ones(n)\n",
    "\n",
    "    def rfreeobj(x): return objfunc(x)[0]\n",
    "\n",
    "    def efreeobj1(x): return objfunc(x)[1]\n",
    "    totalvol = vol(xmaximum)[0]\n",
    "\n",
    "    def constr(x): return 1. / totalvol * vol(x)[0] - V0\n",
    "\n",
    "    def dconstr(x): return 1. / totalvol * vol(x)[1]\n",
    "    x0 = 1e-4 * np.ones(n)\n",
    "    # Optimize rfreeobj, starting at x0.\n",
    "    problem = NLP(rfreeobj, x0, df=efreeobj1, c=constr, dc=dconstr, lb=xminimum,\n",
    "                  ub=xmaximum, name=\"Truss Optimization\", iprint=100, maxIter=1500)\n",
    "    result = problem.solve(\"ralg\")\n",
    "    trussform(result.xf)"
   ]
  },
  {
   "cell_type": "code",
   "execution_count": 37,
   "metadata": {},
   "outputs": [],
   "source": [
    "def visualtruss(width=11, height=3, E=1e+7):\n",
    "    sf = 0.4\n",
    "    dots, cons = structtruss(\n",
    "        (0, 0), (0.6, (height-1) / 10), width - 1, height-1)\n",
    "    YM = E  # Young's Modulus\n",
    "    ym = YM*np.ones(cons.shape[0])\n",
    "    onload = np.zeros_like(dots) #the external forces acting on each node\n",
    "    for i in range(1, int((width + 1)/2)):\n",
    "        onload[i, 1] = - 30 * i\n",
    "        onload[width - i - 1, 1] = - 30 * i \n",
    "    onload = onload * sf\n",
    "    freepj = np.ones_like(dots).astype(\"int\") #freedom of the i-th node: 0 if it is fixed, and 1 otherwise.\n",
    "    freepj[0, :] = 0\n",
    "    freepj[width - 1, :] = 0\n",
    "    genalgtruss(dots, cons, ym, onload, freepj, 0.1, True) #0.1 = a parameter corresponding to the normalization of Vmax"
   ]
  },
  {
   "cell_type": "markdown",
   "metadata": {},
   "source": [
    "## Enter width "
   ]
  },
  {
   "cell_type": "code",
   "execution_count": 38,
   "metadata": {},
   "outputs": [
    {
     "name": "stdout",
     "output_type": "stream",
     "text": [
      "11\n"
     ]
    }
   ],
   "source": [
    "q1 = int(input())\n"
   ]
  },
  {
   "cell_type": "markdown",
   "metadata": {
    "collapsed": true
   },
   "source": [
    "## Enter height"
   ]
  },
  {
   "cell_type": "code",
   "execution_count": 39,
   "metadata": {},
   "outputs": [
    {
     "name": "stdout",
     "output_type": "stream",
     "text": [
      "3\n"
     ]
    }
   ],
   "source": [
    "q2 = int(input())"
   ]
  },
  {
   "cell_type": "markdown",
   "metadata": {},
   "source": [
    "## Enter value of Young's Modulus for your material in mega psi"
   ]
  },
  {
   "cell_type": "code",
   "execution_count": 40,
   "metadata": {},
   "outputs": [
    {
     "name": "stdout",
     "output_type": "stream",
     "text": [
      "12\n",
      "\n",
      "------------------------- OpenOpt 0.5629 -------------------------\n",
      "problem: Truss Optimization   type: NLP    goal: minimum\n",
      "solver: ralg\n",
      "variables: 92\n",
      "constaints:  non-linear {1 ineq  0 eq}\n",
      "  iter  objFunVal  log10(maxResidual)  \n",
      "    0  1.132e+01            -100.00 \n",
      "  100  3.310e-01              -0.55 \n",
      "  200  3.028e-01              -1.04 \n",
      "  300  4.400e-01              -0.47 \n",
      "  400  2.300e-01              -0.37 \n",
      "  500  3.585e-01              -0.46 \n",
      "  600  2.550e+00              -0.83 \n",
      "  700  6.895e-01              -0.82 \n",
      "  800  2.851e+00              -1.87 \n",
      "  900  6.068e-01              -5.51 \n",
      " 1000  4.902e-01              -4.25 \n",
      " 1100  4.651e-01            -100.00 \n",
      " 1191  4.623e-01              -6.32 \n",
      "istop: 4 (|| F[k] - F[k-1] || < ftol)\n",
      "Solver:   Time Elapsed = 31.1  \tCPU Time Elapsed = 51\n",
      "objFuncValue: 0.46232459 (feasible, MaxResidual = 4.83219e-07)\n"
     ]
    },
    {
     "data": {
      "image/png": "[encoded data removed]",
      "text/plain": [
       "<Figure size 864x432 with 2 Axes>"
      ]
     },
     "metadata": {},
     "output_type": "display_data"
    }
   ],
   "source": [
    "q3 = float(input())\n",
    "q3 = q3*1e+6\n",
    "visualtruss(q1,q2,q3)"
   ]
  },
  {
   "cell_type": "code",
   "execution_count": null,
   "metadata": {},
   "outputs": [],
   "source": []
  }
 ],
 "metadata": {
  "kernelspec": {
   "display_name": "Python 3",
   "language": "python",
   "name": "python3"
  },
  "language_info": {
   "codemirror_mode": {
    "name": "ipython",
    "version": 3
   },
   "file_extension": ".py",
   "mimetype": "text/x-python",
   "name": "python",
   "nbconvert_exporter": "python",
   "pygments_lexer": "ipython3",
   "version": "3.7.1"
  }
 },
 "nbformat": 4,
 "nbformat_minor": 2
}
